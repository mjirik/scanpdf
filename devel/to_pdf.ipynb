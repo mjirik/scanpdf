{
 "cells": [
  {
   "cell_type": "code",
   "execution_count": 2,
   "metadata": {},
   "outputs": [
    {
     "name": "stdout",
     "output_type": "stream",
     "text": [
      "Populating the interactive namespace from numpy and matplotlib\n"
     ]
    }
   ],
   "source": [
    "%pylab inline\n",
    "\n",
    "import sys\n",
    "import glob\n",
    "import os.path as op\n",
    "import shutil\n",
    "from matplotlib import pyplot as plt\n",
    "import scipy.misc\n",
    "import skimage.transform\n",
    "import skimage.io\n",
    "from PIL import Image\n"
   ]
  },
  {
   "cell_type": "code",
   "execution_count": 15,
   "metadata": {},
   "outputs": [],
   "source": [
    "path = r\"C:/Users/miros/Dokumenty/Scanned Documents/Šumavan zima 2018\" \n",
    "\n",
    "pdf_filename = \"pokus.pdf\""
   ]
  },
  {
   "cell_type": "code",
   "execution_count": 5,
   "metadata": {},
   "outputs": [],
   "source": [
    "head, teil = op.split(path)\n",
    "jpgs_path = op.join(head, teil + \" - sorted\")\n",
    "fns = glob.glob(op.join(jpgs_path, \"*\"))"
   ]
  },
  {
   "cell_type": "code",
   "execution_count": 10,
   "metadata": {},
   "outputs": [],
   "source": []
  },
  {
   "cell_type": "code",
   "execution_count": 16,
   "metadata": {},
   "outputs": [],
   "source": [
    "im_list = []\n",
    "\n",
    "\n",
    "for fn in fns:\n",
    "    im = Image.open(fn)\n",
    "    im_list.append(im)\n",
    "\n",
    "im0 = im_list.pop(0)\n",
    "im0.save(pdf_filename, \"PDF\" ,resolution=100.0, save_all=True, append_images=im_list)"
   ]
  },
  {
   "cell_type": "code",
   "execution_count": 3,
   "metadata": {},
   "outputs": [
    {
     "name": "stdout",
     "output_type": "stream",
     "text": [
      "['a', 'b', 'c']\n",
      "a\n",
      "['b', 'c']\n"
     ]
    }
   ],
   "source": [
    "lst = [\"a\", \"b\", \"c\"]\n",
    "print(lst)\n",
    "print(lst.pop(0))\n",
    "print(lst)"
   ]
  },
  {
   "cell_type": "code",
   "execution_count": 9,
   "metadata": {},
   "outputs": [
    {
     "name": "stdout",
     "output_type": "stream",
     "text": [
      "['c']\n"
     ]
    }
   ],
   "source": [
    "for i, uu in enumerate(lst):\n",
    "    if uu == \"b\":\n",
    "        print(\"nasel\")\n",
    "        lst.pop(i)\n",
    "print(lst)"
   ]
  },
  {
   "cell_type": "code",
   "execution_count": 11,
   "metadata": {},
   "outputs": [
    {
     "name": "stdout",
     "output_type": "stream",
     "text": [
      "rrrw\n"
     ]
    }
   ],
   "source": [
    "dct = {1: \"asdf\", 2: \"rrrw\", 8: \"aswew\"}\n",
    "if 2 in dct:\n",
    "    print(dct[2])"
   ]
  }
 ],
 "metadata": {
  "kernelspec": {
   "display_name": "Python 3",
   "language": "python",
   "name": "python3"
  },
  "language_info": {
   "codemirror_mode": {
    "name": "ipython",
    "version": 3
   },
   "file_extension": ".py",
   "mimetype": "text/x-python",
   "name": "python",
   "nbconvert_exporter": "python",
   "pygments_lexer": "ipython3",
   "version": "3.6.6"
  }
 },
 "nbformat": 4,
 "nbformat_minor": 2
}
