{
 "cells": [
  {
   "cell_type": "code",
   "execution_count": 1,
   "metadata": {},
   "outputs": [
    {
     "name": "stdout",
     "output_type": "stream",
     "text": [
      "Populating the interactive namespace from numpy and matplotlib\n"
     ]
    }
   ],
   "source": [
    "%pylab inline\n",
    "\n",
    "# conda create -c conda-forge -n -c mcs07 scanpdf python=3.6 numpy scikit-image jupyter tesseract\n",
    "\n",
    "import sys\n",
    "import glob\n",
    "import os.path as op\n",
    "import os\n",
    "import shutil\n",
    "from matplotlib import pyplot as plt\n",
    "import scipy.misc\n",
    "import skimage.transform\n",
    "import skimage.io\n",
    "\n"
   ]
  },
  {
   "cell_type": "code",
   "execution_count": 2,
   "metadata": {},
   "outputs": [],
   "source": [
    "path = r\"C:/Users/miros/Dokumenty/Scanned Documents/Šumavan zima 2018\" \n",
    "\n",
    "reverse_odd_pages = False\n",
    "turn_odd_pages = False\n",
    "reverse_even_pages = True\n",
    "turn_even_pages = True"
   ]
  },
  {
   "cell_type": "code",
   "execution_count": 3,
   "metadata": {},
   "outputs": [],
   "source": [
    "head, teil = op.split(path)\n",
    "output_path = op.join(head, teil + \" - sorted\")\n",
    "if not op.exists(output_path):\n",
    "    import os\n",
    "    os.makedirs(output_path)"
   ]
  },
  {
   "cell_type": "code",
   "execution_count": 4,
   "metadata": {},
   "outputs": [
    {
     "data": {
      "text/plain": [
       "['C:/Users/miros/Dokumenty/Scanned Documents/Šumavan zima 2018\\\\Skener_20181220.jpg',\n",
       " 'C:/Users/miros/Dokumenty/Scanned Documents/Šumavan zima 2018\\\\Skener_20181220_2.jpg',\n",
       " 'C:/Users/miros/Dokumenty/Scanned Documents/Šumavan zima 2018\\\\Skener_20181220_3.jpg',\n",
       " 'C:/Users/miros/Dokumenty/Scanned Documents/Šumavan zima 2018\\\\Skener_20181220_4.jpg',\n",
       " 'C:/Users/miros/Dokumenty/Scanned Documents/Šumavan zima 2018\\\\Skener_20181220_5.jpg',\n",
       " 'C:/Users/miros/Dokumenty/Scanned Documents/Šumavan zima 2018\\\\Skener_20181220_6.jpg',\n",
       " 'C:/Users/miros/Dokumenty/Scanned Documents/Šumavan zima 2018\\\\Skener_20181220_7.jpg',\n",
       " 'C:/Users/miros/Dokumenty/Scanned Documents/Šumavan zima 2018\\\\Skener_20181220_8.jpg',\n",
       " 'C:/Users/miros/Dokumenty/Scanned Documents/Šumavan zima 2018\\\\Skener_20181220_9.jpg',\n",
       " 'C:/Users/miros/Dokumenty/Scanned Documents/Šumavan zima 2018\\\\Skener_20181220_10.jpg',\n",
       " 'C:/Users/miros/Dokumenty/Scanned Documents/Šumavan zima 2018\\\\Skener_20181220_11.jpg',\n",
       " 'C:/Users/miros/Dokumenty/Scanned Documents/Šumavan zima 2018\\\\Skener_20181220_12.jpg',\n",
       " 'C:/Users/miros/Dokumenty/Scanned Documents/Šumavan zima 2018\\\\Skener_20181220_13.jpg',\n",
       " 'C:/Users/miros/Dokumenty/Scanned Documents/Šumavan zima 2018\\\\Skener_20181220_14.jpg',\n",
       " 'C:/Users/miros/Dokumenty/Scanned Documents/Šumavan zima 2018\\\\Skener_20181220_15.jpg',\n",
       " 'C:/Users/miros/Dokumenty/Scanned Documents/Šumavan zima 2018\\\\Skener_20181220_16.jpg',\n",
       " 'C:/Users/miros/Dokumenty/Scanned Documents/Šumavan zima 2018\\\\Skener_20181220_17.jpg',\n",
       " 'C:/Users/miros/Dokumenty/Scanned Documents/Šumavan zima 2018\\\\Skener_20181220_18.jpg',\n",
       " 'C:/Users/miros/Dokumenty/Scanned Documents/Šumavan zima 2018\\\\Skener_20181220_19.jpg',\n",
       " 'C:/Users/miros/Dokumenty/Scanned Documents/Šumavan zima 2018\\\\Skener_20181220_20.jpg',\n",
       " 'C:/Users/miros/Dokumenty/Scanned Documents/Šumavan zima 2018\\\\Skener_20181220_21.jpg',\n",
       " 'C:/Users/miros/Dokumenty/Scanned Documents/Šumavan zima 2018\\\\Skener_20181220_22.jpg',\n",
       " 'C:/Users/miros/Dokumenty/Scanned Documents/Šumavan zima 2018\\\\Skener_20181220_23.jpg',\n",
       " 'C:/Users/miros/Dokumenty/Scanned Documents/Šumavan zima 2018\\\\Skener_20181220 (2).jpg',\n",
       " 'C:/Users/miros/Dokumenty/Scanned Documents/Šumavan zima 2018\\\\Skener_20181220_2 (2).jpg',\n",
       " 'C:/Users/miros/Dokumenty/Scanned Documents/Šumavan zima 2018\\\\Skener_20181220_3 (2).jpg',\n",
       " 'C:/Users/miros/Dokumenty/Scanned Documents/Šumavan zima 2018\\\\Skener_20181220_4 (2).jpg',\n",
       " 'C:/Users/miros/Dokumenty/Scanned Documents/Šumavan zima 2018\\\\Skener_20181220_5 (2).jpg',\n",
       " 'C:/Users/miros/Dokumenty/Scanned Documents/Šumavan zima 2018\\\\Skener_20181220_6 (2).jpg',\n",
       " 'C:/Users/miros/Dokumenty/Scanned Documents/Šumavan zima 2018\\\\Skener_20181220_7 (2).jpg',\n",
       " 'C:/Users/miros/Dokumenty/Scanned Documents/Šumavan zima 2018\\\\Skener_20181220_8 (2).jpg',\n",
       " 'C:/Users/miros/Dokumenty/Scanned Documents/Šumavan zima 2018\\\\Skener_20181220_9 (2).jpg',\n",
       " 'C:/Users/miros/Dokumenty/Scanned Documents/Šumavan zima 2018\\\\Skener_20181220_10 (2).jpg',\n",
       " 'C:/Users/miros/Dokumenty/Scanned Documents/Šumavan zima 2018\\\\Skener_20181220_11 (2).jpg',\n",
       " 'C:/Users/miros/Dokumenty/Scanned Documents/Šumavan zima 2018\\\\Skener_20181220_12 (2).jpg',\n",
       " 'C:/Users/miros/Dokumenty/Scanned Documents/Šumavan zima 2018\\\\Skener_20181220_13 (2).jpg',\n",
       " 'C:/Users/miros/Dokumenty/Scanned Documents/Šumavan zima 2018\\\\Skener_20181220_14 (2).jpg',\n",
       " 'C:/Users/miros/Dokumenty/Scanned Documents/Šumavan zima 2018\\\\Skener_20181220_15 (2).jpg',\n",
       " 'C:/Users/miros/Dokumenty/Scanned Documents/Šumavan zima 2018\\\\Skener_20181220_16 (2).jpg',\n",
       " 'C:/Users/miros/Dokumenty/Scanned Documents/Šumavan zima 2018\\\\Skener_20181220_17 (2).jpg',\n",
       " 'C:/Users/miros/Dokumenty/Scanned Documents/Šumavan zima 2018\\\\Skener_20181220_18 (2).jpg',\n",
       " 'C:/Users/miros/Dokumenty/Scanned Documents/Šumavan zima 2018\\\\Skener_20181220_19 (2).jpg',\n",
       " 'C:/Users/miros/Dokumenty/Scanned Documents/Šumavan zima 2018\\\\Skener_20181220_20 (2).jpg',\n",
       " 'C:/Users/miros/Dokumenty/Scanned Documents/Šumavan zima 2018\\\\Skener_20181220_21 (2).jpg',\n",
       " 'C:/Users/miros/Dokumenty/Scanned Documents/Šumavan zima 2018\\\\Skener_20181220_22 (2).jpg',\n",
       " 'C:/Users/miros/Dokumenty/Scanned Documents/Šumavan zima 2018\\\\Skener_20181220_23 (2).jpg']"
      ]
     },
     "execution_count": 4,
     "metadata": {},
     "output_type": "execute_result"
    }
   ],
   "source": [
    "fns = glob.glob(op.join(path, \"*\"))\n",
    "fns.sort(key=os.path.getmtime)\n",
    "fns"
   ]
  },
  {
   "cell_type": "code",
   "execution_count": 5,
   "metadata": {},
   "outputs": [
    {
     "name": "stdout",
     "output_type": "stream",
     "text": [
      "1 False C:/Users/miros/Dokumenty/Scanned Documents/Šumavan zima 2018\\Skener_20181220.jpg\n",
      "3 False C:/Users/miros/Dokumenty/Scanned Documents/Šumavan zima 2018\\Skener_20181220_2.jpg\n",
      "5 False C:/Users/miros/Dokumenty/Scanned Documents/Šumavan zima 2018\\Skener_20181220_3.jpg\n",
      "7 False C:/Users/miros/Dokumenty/Scanned Documents/Šumavan zima 2018\\Skener_20181220_4.jpg\n",
      "9 False C:/Users/miros/Dokumenty/Scanned Documents/Šumavan zima 2018\\Skener_20181220_5.jpg\n",
      "11 False C:/Users/miros/Dokumenty/Scanned Documents/Šumavan zima 2018\\Skener_20181220_6.jpg\n",
      "13 False C:/Users/miros/Dokumenty/Scanned Documents/Šumavan zima 2018\\Skener_20181220_7.jpg\n",
      "15 False C:/Users/miros/Dokumenty/Scanned Documents/Šumavan zima 2018\\Skener_20181220_8.jpg\n",
      "17 False C:/Users/miros/Dokumenty/Scanned Documents/Šumavan zima 2018\\Skener_20181220_9.jpg\n",
      "19 False C:/Users/miros/Dokumenty/Scanned Documents/Šumavan zima 2018\\Skener_20181220_10.jpg\n",
      "21 False C:/Users/miros/Dokumenty/Scanned Documents/Šumavan zima 2018\\Skener_20181220_11.jpg\n",
      "23 False C:/Users/miros/Dokumenty/Scanned Documents/Šumavan zima 2018\\Skener_20181220_12.jpg\n",
      "25 False C:/Users/miros/Dokumenty/Scanned Documents/Šumavan zima 2018\\Skener_20181220_13.jpg\n",
      "27 False C:/Users/miros/Dokumenty/Scanned Documents/Šumavan zima 2018\\Skener_20181220_14.jpg\n",
      "29 False C:/Users/miros/Dokumenty/Scanned Documents/Šumavan zima 2018\\Skener_20181220_15.jpg\n",
      "31 False C:/Users/miros/Dokumenty/Scanned Documents/Šumavan zima 2018\\Skener_20181220_16.jpg\n",
      "33 False C:/Users/miros/Dokumenty/Scanned Documents/Šumavan zima 2018\\Skener_20181220_17.jpg\n",
      "35 False C:/Users/miros/Dokumenty/Scanned Documents/Šumavan zima 2018\\Skener_20181220_18.jpg\n",
      "37 False C:/Users/miros/Dokumenty/Scanned Documents/Šumavan zima 2018\\Skener_20181220_19.jpg\n",
      "39 False C:/Users/miros/Dokumenty/Scanned Documents/Šumavan zima 2018\\Skener_20181220_20.jpg\n",
      "41 False C:/Users/miros/Dokumenty/Scanned Documents/Šumavan zima 2018\\Skener_20181220_21.jpg\n",
      "43 False C:/Users/miros/Dokumenty/Scanned Documents/Šumavan zima 2018\\Skener_20181220_22.jpg\n",
      "45 False C:/Users/miros/Dokumenty/Scanned Documents/Šumavan zima 2018\\Skener_20181220_23.jpg\n",
      "46 True C:/Users/miros/Dokumenty/Scanned Documents/Šumavan zima 2018\\Skener_20181220 (2).jpg\n",
      "44 True C:/Users/miros/Dokumenty/Scanned Documents/Šumavan zima 2018\\Skener_20181220_2 (2).jpg\n",
      "42 True C:/Users/miros/Dokumenty/Scanned Documents/Šumavan zima 2018\\Skener_20181220_3 (2).jpg\n",
      "40 True C:/Users/miros/Dokumenty/Scanned Documents/Šumavan zima 2018\\Skener_20181220_4 (2).jpg\n",
      "38 True C:/Users/miros/Dokumenty/Scanned Documents/Šumavan zima 2018\\Skener_20181220_5 (2).jpg\n",
      "36 True C:/Users/miros/Dokumenty/Scanned Documents/Šumavan zima 2018\\Skener_20181220_6 (2).jpg\n",
      "34 True C:/Users/miros/Dokumenty/Scanned Documents/Šumavan zima 2018\\Skener_20181220_7 (2).jpg\n",
      "32 True C:/Users/miros/Dokumenty/Scanned Documents/Šumavan zima 2018\\Skener_20181220_8 (2).jpg\n",
      "30 True C:/Users/miros/Dokumenty/Scanned Documents/Šumavan zima 2018\\Skener_20181220_9 (2).jpg\n",
      "28 True C:/Users/miros/Dokumenty/Scanned Documents/Šumavan zima 2018\\Skener_20181220_10 (2).jpg\n",
      "26 True C:/Users/miros/Dokumenty/Scanned Documents/Šumavan zima 2018\\Skener_20181220_11 (2).jpg\n",
      "24 True C:/Users/miros/Dokumenty/Scanned Documents/Šumavan zima 2018\\Skener_20181220_12 (2).jpg\n",
      "22 True C:/Users/miros/Dokumenty/Scanned Documents/Šumavan zima 2018\\Skener_20181220_13 (2).jpg\n",
      "20 True C:/Users/miros/Dokumenty/Scanned Documents/Šumavan zima 2018\\Skener_20181220_14 (2).jpg\n",
      "18 True C:/Users/miros/Dokumenty/Scanned Documents/Šumavan zima 2018\\Skener_20181220_15 (2).jpg\n",
      "16 True C:/Users/miros/Dokumenty/Scanned Documents/Šumavan zima 2018\\Skener_20181220_16 (2).jpg\n",
      "14 True C:/Users/miros/Dokumenty/Scanned Documents/Šumavan zima 2018\\Skener_20181220_17 (2).jpg\n",
      "12 True C:/Users/miros/Dokumenty/Scanned Documents/Šumavan zima 2018\\Skener_20181220_18 (2).jpg\n",
      "10 True C:/Users/miros/Dokumenty/Scanned Documents/Šumavan zima 2018\\Skener_20181220_19 (2).jpg\n",
      "8 True C:/Users/miros/Dokumenty/Scanned Documents/Šumavan zima 2018\\Skener_20181220_20 (2).jpg\n",
      "6 True C:/Users/miros/Dokumenty/Scanned Documents/Šumavan zima 2018\\Skener_20181220_21 (2).jpg\n",
      "4 True C:/Users/miros/Dokumenty/Scanned Documents/Šumavan zima 2018\\Skener_20181220_22 (2).jpg\n",
      "2 True C:/Users/miros/Dokumenty/Scanned Documents/Šumavan zima 2018\\Skener_20181220_23 (2).jpg\n"
     ]
    }
   ],
   "source": [
    "length = len(fns)\n",
    "if length % 2 == 1:\n",
    "    raise ValueError(\"Even number of files expected\")\n",
    "len2 = int(length / 2)\n",
    "\n",
    "processing_params = [None] * length\n",
    "# fns sorted by datetime\n",
    "for i, fn in enumerate(fns):\n",
    "    turn = False\n",
    "    if i < len2:\n",
    "        # odd\n",
    "        if reverse_odd_pages:\n",
    "            inew = ((len2 - i) * 2) + 1\n",
    "        else:\n",
    "            inew = (i * 2) + 1\n",
    "        turn = turn_odd_pages\n",
    "    else:\n",
    "        # even\n",
    "        if reverse_even_pages:\n",
    "            inew = (length - i) * 2\n",
    "        else:\n",
    "            inew = (i - len2) * 2\n",
    "        turn = turn_even_pages\n",
    "        \n",
    "    processing_params[i] = [inew, turn, fn]\n",
    "    print(inew, turn, fn)"
   ]
  },
  {
   "cell_type": "code",
   "execution_count": 10,
   "metadata": {},
   "outputs": [],
   "source": [
    "for i, fn in enumerate(fns):\n",
    "    _, ext = op.splitext(fn)\n",
    "    \n",
    "    inew, turn, fn0 = processing_params[i]\n",
    "    new_short_fn = '{:04d}'.format(inew) + ext\n",
    "    new_fn = op.join(output_path, new_short_fn)\n",
    "    if turn:\n",
    "        im = skimage.io.imread(fn)\n",
    "        im2 = skimage.transform.rotate(im, 180)\n",
    "        skimage.io.imsave(new_fn, im2)\n",
    "    else:    \n",
    "        shutil.copy(fn, new_fn)\n",
    "    \n",
    "    \n",
    "    "
   ]
  },
  {
   "cell_type": "code",
   "execution_count": 7,
   "metadata": {},
   "outputs": [
    {
     "data": {
      "text/plain": [
       "'.jpg'"
      ]
     },
     "execution_count": 7,
     "metadata": {},
     "output_type": "execute_result"
    }
   ],
   "source": [
    "ext"
   ]
  },
  {
   "cell_type": "code",
   "execution_count": 8,
   "metadata": {},
   "outputs": [
    {
     "data": {
      "text/plain": [
       "True"
      ]
     },
     "execution_count": 8,
     "metadata": {},
     "output_type": "execute_result"
    }
   ],
   "source": [
    "6%2==0"
   ]
  }
 ],
 "metadata": {
  "kernelspec": {
   "display_name": "Python 3",
   "language": "python",
   "name": "python3"
  },
  "language_info": {
   "codemirror_mode": {
    "name": "ipython",
    "version": 3
   },
   "file_extension": ".py",
   "mimetype": "text/x-python",
   "name": "python",
   "nbconvert_exporter": "python",
   "pygments_lexer": "ipython3",
   "version": "3.6.6"
  }
 },
 "nbformat": 4,
 "nbformat_minor": 2
}
