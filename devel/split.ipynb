{
 "cells": [
  {
   "cell_type": "code",
   "execution_count": 16,
   "metadata": {},
   "outputs": [
    {
     "name": "stdout",
     "output_type": "stream",
     "text": [
      "Populating the interactive namespace from numpy and matplotlib\n"
     ]
    },
    {
     "name": "stderr",
     "output_type": "stream",
     "text": [
      "C:\\Users\\miros\\Miniconda3\\envs\\scanpdf\\lib\\site-packages\\IPython\\core\\magics\\pylab.py:160: UserWarning: pylab import has clobbered these variables: ['text']\n",
      "`%matplotlib` prevents importing * from pylab and numpy\n",
      "  \"\\n`%matplotlib` prevents importing * from pylab and numpy\"\n"
     ]
    }
   ],
   "source": [
    "%pylab inline\n",
    "\n",
    "import sys\n",
    "import glob\n",
    "import os.path as op\n",
    "import shutil\n",
    "# from matplotlib import pyplot as plt\n",
    "import scipy.misc\n",
    "# import skimage.transform\n",
    "import skimage.io\n",
    "import tesserocr\n",
    "from PIL import Image\n",
    "import re"
   ]
  },
  {
   "cell_type": "code",
   "execution_count": 3,
   "metadata": {},
   "outputs": [],
   "source": [
    "path = r\"C:/Users/miros/Dokumenty/Scanned Documents/Šumavan zima 2018\" "
   ]
  },
  {
   "cell_type": "code",
   "execution_count": 4,
   "metadata": {},
   "outputs": [],
   "source": [
    "head, teil = op.split(path)\n",
    "jpgs_path = op.join(head, teil + \" - sorted\")\n",
    "fns = glob.glob(op.join(jpgs_path, \"*\"))"
   ]
  },
  {
   "cell_type": "code",
   "execution_count": 42,
   "metadata": {},
   "outputs": [
    {
     "name": "stdout",
     "output_type": "stream",
     "text": [
      "1 ) Pumdtce n1 yd: rod/cu (In mzmory ofmypdrmn} FIVE LENTEN MOTETS for Four- Fart Chorus of Mixed Voices : uppell:\n",
      "5 ) “5 7_ ny- I I Kyrie ngolp (IZHCQ andugt) J 21.166 _0n0igémb ad lib. bi 5 12! s-J 1w\n",
      "6 ) 1“ r—— !_ Pl—Jf H . | o 1 s 3 1 g s 5 f lci — son. 0 - 1c - -V i - snn. Ky ri _ c c _ Fai: —\n",
      "7 ) Ave Maria Vytautas Miékinis *1954 komponien 10.12.1988\n",
      "8 ) 11 cresc. poco a pace ctus fru—ctus ven - — tris tu - i\n",
      "11 ) (M \\I R DﬂTFTCT\n",
      "27 ) 10 u\n",
      "29 ) . r\n",
      "30 ) I . I I 57 7 x-gd:uggg\n",
      "31 ) Minet\n",
      "34 ) 37 In.\n",
      "35 ) Kaplanka\n",
      "36 ) 10 2 Allegro molto (J = 144) i 0 PH —\n",
      "37 ) Historicky tanec\n",
      "39 ) 34 E 1311 2. sloce m. lL————_—H2.— 11\n",
      "40 ) 12 Furiant\n",
      "44 ) 16 46 Arm\n"
     ]
    }
   ],
   "source": [
    "# im = skimage.io.imread(fns[0])\n",
    "data = {}\n",
    "for i, fn in enumerate(fns):\n",
    "    im = Image.open(fn)\n",
    "    w, h = im.size\n",
    "    imcr = im.crop((0, 30, w, int(0.10 * h)))\n",
    "    im.close()\n",
    "    text = tesserocr.image_to_text(imcr)\n",
    "    text = text.strip()\n",
    "    text = re.sub('\"', '', text)\n",
    "    text = re.sub(r\"['‘’?§;,>]\", '', text)\n",
    "    text = re.sub(r\"\\s+\", ' ', text)\n",
    "#     text = re.sub(r\"^\\s*\\n\", '', text)\n",
    "    text = re.sub(' +', ' ', text)\n",
    "#     text = re.sub(r'\\n\\s*\\n', r'\\n', text)\n",
    "    text = re.sub(r'^\\s*\\d+[\\s\\d]*$', '', text)\n",
    "    \n",
    "    text = text.strip()\n",
    "    if len(text) > 0:\n",
    "        print(i + 1, \")\", text)\n",
    "        data[i+1] = text\n",
    "# config = (\"-l eng --oem 1 --psm 7\")\n",
    "# plt.imshow(imcr)"
   ]
  },
  {
   "cell_type": "code",
   "execution_count": 45,
   "metadata": {},
   "outputs": [
    {
     "name": "stdout",
     "output_type": "stream",
     "text": [
      "{\n",
      "    \"1\": \"Pumdtce n1 yd: rod/cu (In mzmory ofmypdrmn} FIVE LENTEN MOTETS for Four- Fart Chorus of Mixed Voices : uppell:\",\n",
      "    \"5\": \"\\u201c5 7_ ny- I I Kyrie ngolp (IZHCQ andugt) J 21.166 _0n0ig\\u00e9mb ad lib. bi 5 12! s-J 1w\",\n",
      "    \"6\": \"1\\u201c r\\u2014\\u2014 !_ Pl\\u2014Jf H . | o 1 s 3 1 g s 5 f lci \\u2014 son. 0 - 1c - -V i - snn. Ky ri _ c c _ Fai: \\u2014\",\n",
      "    \"7\": \"Ave Maria Vytautas Mi\\u00e9kinis *1954 komponien 10.12.1988\",\n",
      "    \"8\": \"11 cresc. poco a pace ctus fru\\u2014ctus ven - \\u2014 tris tu - i\",\n",
      "    \"11\": \"(M \\\\I R D\\ufb02TFTCT\",\n",
      "    \"27\": \"10 u\",\n",
      "    \"29\": \". r\",\n",
      "    \"30\": \"I . I I 57 7 x-gd:uggg\",\n",
      "    \"31\": \"Minet\",\n",
      "    \"34\": \"37 In.\",\n",
      "    \"35\": \"Kaplanka\",\n",
      "    \"36\": \"10 2 Allegro molto (J = 144) i 0 PH \\u2014\",\n",
      "    \"37\": \"Historicky tanec\",\n",
      "    \"39\": \"34 E 1311 2. sloce m. lL\\u2014\\u2014\\u2014\\u2014_\\u2014H2.\\u2014 11\",\n",
      "    \"40\": \"12 Furiant\",\n",
      "    \"44\": \"16 46 Arm\"\n",
      "}\n"
     ]
    }
   ],
   "source": [
    "import json\n",
    "jsn = json.dumps(data, sort_keys=True, indent=4)#, separators=(',', ': '))\n",
    "print(jsn)"
   ]
  },
  {
   "cell_type": "code",
   "execution_count": null,
   "metadata": {},
   "outputs": [],
   "source": [
    "import ruamel.yaml"
   ]
  },
  {
   "cell_type": "code",
   "execution_count": 18,
   "metadata": {},
   "outputs": [
    {
     "data": {
      "text/plain": [
       "('C:\\\\Users\\\\miros\\\\Miniconda3\\\\envs\\\\scanpdf\\\\tessdata/',\n",
       " ['eng', 'equ', 'osd'])"
      ]
     },
     "execution_count": 18,
     "metadata": {},
     "output_type": "execute_result"
    }
   ],
   "source": [
    "tesserocr.get_languages()"
   ]
  },
  {
   "cell_type": "code",
   "execution_count": 28,
   "metadata": {},
   "outputs": [
    {
     "data": {
      "text/plain": [
       "7"
      ]
     },
     "execution_count": 28,
     "metadata": {},
     "output_type": "execute_result"
    }
   ],
   "source": [
    "tesserocr.PSM.SINGLE_LINE"
   ]
  },
  {
   "cell_type": "code",
   "execution_count": 28,
   "metadata": {},
   "outputs": [
    {
     "data": {
      "text/plain": [
       "<matplotlib.image.AxesImage at 0x2b50a29ab38>"
      ]
     },
     "execution_count": 28,
     "metadata": {},
     "output_type": "execute_result"
    },
    {
     "data": {
      "image/png": "[encoded data removed]",
      "text/plain": [
       "<Figure size 1440x1296 with 1 Axes>"
      ]
     },
     "metadata": {
      "needs_background": "light"
     },
     "output_type": "display_data"
    }
   ],
   "source": [
    "plt.figure(figsize=(20,18))\n",
    "plt.imshow(imcr)"
   ]
  }
 ],
 "metadata": {
  "kernelspec": {
   "display_name": "Python 3",
   "language": "python",
   "name": "python3"
  },
  "language_info": {
   "codemirror_mode": {
    "name": "ipython",
    "version": 3
   },
   "file_extension": ".py",
   "mimetype": "text/x-python",
   "name": "python",
   "nbconvert_exporter": "python",
   "pygments_lexer": "ipython3",
   "version": "3.6.6"
  }
 },
 "nbformat": 4,
 "nbformat_minor": 2
}
